{
 "cells": [
  {
   "cell_type": "markdown",
   "metadata": {},
   "source": [
    "# Matthew Coscia\n",
    "# 2/25/2020\n",
    "# Assignment 1\n",
    "# CS 2304"
   ]
  },
  {
   "cell_type": "markdown",
   "metadata": {},
   "source": [
    "#-On my honor:\n",
    "#-I have not discussed the Python code in my program with#anyone other than my instructor assigned to this course.\n",
    "#-I have not used Python code obtained from another student, \n",
    "#or any other unauthorized source, either modified or unmodified. \n",
    "#-If any Python code or documentation used in my program \n",
    "#was obtained from another source, such as a text book or course\n",
    "#notes, that has been clearly noted with a proper citation in\n",
    "#the comments of my program.\n",
    "#-Matthew Coscia (matthewcoscia)"
   ]
  },
  {
   "cell_type": "markdown",
   "metadata": {},
   "source": [
    "# Comments:\n",
    "#Calculate an individual's taxes based on gross income, deductions and filing status.\n",
    "#Parameter: Name of data file as a string"
   ]
  },
  {
   "cell_type": "code",
   "execution_count": 124,
   "metadata": {},
   "outputs": [],
   "source": [
    "from decimal import *\n",
    "\n",
    "def taxCalculator(data):\n",
    "    \n",
    "    rates = [.10, .12, .22, .24, .32, .35, .37]\n",
    "\n",
    "    brackets = [[9525, 38700, 82500, 157500, 200000, 500000, float(\"inf\")], \n",
    "               [19050, 77400, 165000, 315000, 400000, 600000, float(\"inf\")],\n",
    "               [9525, 38700, 82500, 157500, 200000, 300000, float(\"inf\")],\n",
    "               [13600, 51800, 82500, 157500, 200000, 500000, float(\"inf\")]]\n",
    "\n",
    "    print(\"ID    Name                 Total Tax\")\n",
    "    print(\"------------------------------------\")\n",
    "    \n",
    "    #Open the data file and save the lines in a list\n",
    "    f = open(data, \"r\")\n",
    "    lines = f.readlines()\n",
    "    \n",
    "    #For each line, split at each whitespace and save each important piece of information.\n",
    "    #Use the information to calculate taxes.\n",
    "    #\n",
    "    #Data format:  \"ID Name FilingStatus GrossIncome Deductions\"\n",
    "    for x in lines:\n",
    "        spl = x.split()\n",
    "        num = spl[0]\n",
    "        name = spl[1]\n",
    "        fstatus = int(spl[2])\n",
    "        #Taxable income is gross income minus deductions\n",
    "        income = int(spl[3]) - int(spl[4])\n",
    "        taxes = 0\n",
    "        \n",
    "        #For each portion of the tax bracket\n",
    "        for i in range(0, 6):\n",
    "            #While the individual has income in the bracket\n",
    "            if income > 0:\n",
    "                if i == 0:\n",
    "                    portion = min(brackets[fstatus][i], income)\n",
    "                    taxes += rates[i] * portion\n",
    "                    income -= portion\n",
    "                else:\n",
    "                    portion = min(brackets[fstatus][i] - brackets[fstatus][i-1], income)\n",
    "                    taxes += rates[i] * portion\n",
    "                    income -= portion\n",
    "         \n",
    "        result = '{:<3}  {:<20}  ${:>8}'.format(num, name, Decimal(taxes).quantize(Decimal('.01')))\n",
    "        print(result)"
   ]
  },
  {
   "cell_type": "code",
   "execution_count": 125,
   "metadata": {
    "scrolled": false
   },
   "outputs": [
    {
     "name": "stdout",
     "output_type": "stream",
     "text": [
      "ID    Name                 Total Tax\n",
      "------------------------------------\n",
      "0    Doe,John              $ 1670.00\n",
      "1    Dough,Jane            $ 4551.18\n",
      "2    Smith,Amy             $ 6695.30\n",
      "3    Walker,Mary           $ 8446.94\n",
      "4    Rose,Joe              $ 4605.36\n",
      "5    Edwards,John          $53205.50\n"
     ]
    }
   ],
   "source": [
    "taxCalculator(\"SampleInput.txt\")"
   ]
  },
  {
   "cell_type": "code",
   "execution_count": null,
   "metadata": {},
   "outputs": [],
   "source": []
  }
 ],
 "metadata": {
  "kernelspec": {
   "display_name": "Python 3",
   "language": "python",
   "name": "python3"
  },
  "language_info": {
   "codemirror_mode": {
    "name": "ipython",
    "version": 3
   },
   "file_extension": ".py",
   "mimetype": "text/x-python",
   "name": "python",
   "nbconvert_exporter": "python",
   "pygments_lexer": "ipython3",
   "version": "3.7.4"
  }
 },
 "nbformat": 4,
 "nbformat_minor": 2
}
